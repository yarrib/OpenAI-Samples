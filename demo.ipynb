{
 "cells": [
  {
   "cell_type": "code",
   "execution_count": 26,
   "metadata": {},
   "outputs": [
    {
     "data": {
      "text/plain": [
       "9.767317073170732"
      ]
     },
     "execution_count": 26,
     "metadata": {},
     "output_type": "execute_result"
    }
   ],
   "source": [
    "init_start = 4100.\n",
    "dollar_gain = 400.46\n",
    "end = init_start+dollar_gain\n",
    "\n",
    "def pct_gain(start,end):\n",
    "    return ((end-start)/start)*100\n",
    "\n",
    "gain_pct = pct_gain(init_start,end)\n",
    "gain_pct"
   ]
  },
  {
   "cell_type": "code",
   "execution_count": 38,
   "metadata": {},
   "outputs": [],
   "source": [
    "quarters = ['Q1','Q2','Q3','Q4']\n",
    "years = list(range(2023,2035))"
   ]
  },
  {
   "cell_type": "code",
   "execution_count": 39,
   "metadata": {},
   "outputs": [
    {
     "data": {
      "text/plain": [
       "(48, 48)"
      ]
     },
     "execution_count": 39,
     "metadata": {},
     "output_type": "execute_result"
    }
   ],
   "source": [
    "import numpy as np\n",
    "\n",
    "g2 = [np.random.uniform(-0.03, 0.12) for x in range(len(years)*len(quarters))]\n",
    "len(g2), len(quarters)*len(years)"
   ]
  },
  {
   "cell_type": "code",
   "execution_count": 58,
   "metadata": {},
   "outputs": [
    {
     "ename": "IndexError",
     "evalue": "list index out of range",
     "output_type": "error",
     "traceback": [
      "\u001b[0;31m---------------------------------------------------------------------------\u001b[0m",
      "\u001b[0;31mIndexError\u001b[0m                                Traceback (most recent call last)",
      "Cell \u001b[0;32mIn[58], line 13\u001b[0m\n\u001b[1;32m     10\u001b[0m \u001b[39mif\u001b[39;00m i\u001b[39m==\u001b[39m\u001b[39m2023\u001b[39m \u001b[39mand\u001b[39;00m q \u001b[39m==\u001b[39m \u001b[39m'\u001b[39m\u001b[39mQ1\u001b[39m\u001b[39m'\u001b[39m \u001b[39mand\u001b[39;00m balance\u001b[39m==\u001b[39m\u001b[39m0\u001b[39m:\n\u001b[1;32m     11\u001b[0m     balance \u001b[39m=\u001b[39m start\n\u001b[0;32m---> 13\u001b[0m balance \u001b[39m+\u001b[39m\u001b[39m=\u001b[39m annual_contrib[i]\n\u001b[1;32m     14\u001b[0m total_contribs \u001b[39m+\u001b[39m\u001b[39m=\u001b[39m annual_contrib[i]\n\u001b[1;32m     16\u001b[0m balance \u001b[39m=\u001b[39m balance \u001b[39m+\u001b[39m balance\u001b[39m*\u001b[39mg2[x]\n",
      "\u001b[0;31mIndexError\u001b[0m: list index out of range"
     ]
    }
   ],
   "source": [
    "start = 3700\n",
    "g2 = [np.random.uniform(-0.04, 0.12) for x in range(0,len(years)*len(quarters))]\n",
    "annual_contrib = [0]+list(np.random.choice([1500,2500,3500,4500],size=len(years), replace=True))\n",
    "total_contribs = start\n",
    "balance = 0\n",
    "x = 0\n",
    "for i in years:\n",
    "    for q in quarters:\n",
    "        #print(i,q,x)\n",
    "        if i==2023 and q == 'Q1' and balance==0:\n",
    "            balance = start\n",
    "        \n",
    "        balance += annual_contrib[i]\n",
    "        total_contribs += annual_contrib[i]\n",
    "\n",
    "        balance = balance + balance*g2[x]\n",
    "        period = (f'{i}-{q}').ljust(10)\n",
    "        disp_bal = str(round(balance, 2)).ljust(15)\n",
    "        gainloss = str(round(balance-total_contribs,2)).ljust(15)\n",
    "        tcontrib = str(round(total_contribs, 0)).ljust(15)\n",
    "        x += 1\n",
    "\n",
    "    print(f'Year-Quarter: {period} | ${disp_bal} | total gain (loss): ${gainloss} | Total Contribs: ${tcontrib}')\n",
    "    print('-'*120)\n",
    "\n",
    "\n"
   ]
  },
  {
   "cell_type": "code",
   "execution_count": 17,
   "metadata": {},
   "outputs": [
    {
     "name": "stdout",
     "output_type": "stream",
     "text": [
      "Year_Q: 2023-Q1   | | $123.456\n"
     ]
    }
   ],
   "source": [
    "tmp =(f'{years[0]}-{quarters[0]}').ljust(10)+'|'\n",
    "othervar = 123.456\n",
    "print(f'Year_Q: {tmp} | ${othervar}')"
   ]
  },
  {
   "cell_type": "code",
   "execution_count": null,
   "metadata": {},
   "outputs": [],
   "source": []
  }
 ],
 "metadata": {
  "kernelspec": {
   "display_name": "fastai2",
   "language": "python",
   "name": "python3"
  },
  "language_info": {
   "codemirror_mode": {
    "name": "ipython",
    "version": 3
   },
   "file_extension": ".py",
   "mimetype": "text/x-python",
   "name": "python",
   "nbconvert_exporter": "python",
   "pygments_lexer": "ipython3",
   "version": "3.10.8"
  },
  "orig_nbformat": 4
 },
 "nbformat": 4,
 "nbformat_minor": 2
}
