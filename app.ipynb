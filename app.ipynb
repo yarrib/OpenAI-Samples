{
 "cells": [
  {
   "cell_type": "markdown",
   "id": "e9f8f5eb-de84-470a-831b-7072752cd190",
   "metadata": {},
   "source": [
    "## Basic gradio app"
   ]
  },
  {
   "cell_type": "code",
   "execution_count": 16,
   "id": "c3a4b0ab-c25d-437d-ad04-968b697f9860",
   "metadata": {},
   "outputs": [
    {
     "data": {
      "text/html": [
       "<div>\n",
       "<style scoped>\n",
       "    .dataframe tbody tr th:only-of-type {\n",
       "        vertical-align: middle;\n",
       "    }\n",
       "\n",
       "    .dataframe tbody tr th {\n",
       "        vertical-align: top;\n",
       "    }\n",
       "\n",
       "    .dataframe thead th {\n",
       "        text-align: right;\n",
       "    }\n",
       "</style>\n",
       "<table border=\"1\" class=\"dataframe\">\n",
       "  <thead>\n",
       "    <tr style=\"text-align: right;\">\n",
       "      <th></th>\n",
       "      <th>text</th>\n",
       "      <th>n_tokens</th>\n",
       "      <th>embeddings</th>\n",
       "    </tr>\n",
       "  </thead>\n",
       "  <tbody>\n",
       "    <tr>\n",
       "      <th>0</th>\n",
       "      <td>com insights articles tax salt the latest impa...</td>\n",
       "      <td>17</td>\n",
       "      <td>[-0.02142474427819252, -0.0044760936871171, 0....</td>\n",
       "    </tr>\n",
       "    <tr>\n",
       "      <th>1</th>\n",
       "      <td>Cookle, Jessica L. Macklin          On June 21...</td>\n",
       "      <td>464</td>\n",
       "      <td>[0.0025488201063126326, -0.017141442745923996,...</td>\n",
       "    </tr>\n",
       "    <tr>\n",
       "      <th>2</th>\n",
       "      <td>To the extent that businesses sell to end-user...</td>\n",
       "      <td>485</td>\n",
       "      <td>[0.0018098383443430066, -0.032503217458724976,...</td>\n",
       "    </tr>\n",
       "    <tr>\n",
       "      <th>3</th>\n",
       "      <td>Wipfli’s seasoned tax professionals deliver a ...</td>\n",
       "      <td>493</td>\n",
       "      <td>[0.006133987568318844, -0.02812495082616806, 0...</td>\n",
       "    </tr>\n",
       "    <tr>\n",
       "      <th>4</th>\n",
       "      <td>com insights articles aa sba small business re...</td>\n",
       "      <td>14</td>\n",
       "      <td>[-0.004011235199868679, -0.011093624867498875,...</td>\n",
       "    </tr>\n",
       "  </tbody>\n",
       "</table>\n",
       "</div>"
      ],
      "text/plain": [
       "                                                text  n_tokens  \\\n",
       "0  com insights articles tax salt the latest impa...        17   \n",
       "1  Cookle, Jessica L. Macklin          On June 21...       464   \n",
       "2  To the extent that businesses sell to end-user...       485   \n",
       "3  Wipfli’s seasoned tax professionals deliver a ...       493   \n",
       "4  com insights articles aa sba small business re...        14   \n",
       "\n",
       "                                          embeddings  \n",
       "0  [-0.02142474427819252, -0.0044760936871171, 0....  \n",
       "1  [0.0025488201063126326, -0.017141442745923996,...  \n",
       "2  [0.0018098383443430066, -0.032503217458724976,...  \n",
       "3  [0.006133987568318844, -0.02812495082616806, 0...  \n",
       "4  [-0.004011235199868679, -0.011093624867498875,...  "
      ]
     },
     "execution_count": 16,
     "metadata": {},
     "output_type": "execute_result"
    }
   ],
   "source": [
    "import pandas as pd\n",
    "import numpy as np\n",
    "import os\n",
    "import gradio as gr\n",
    "\n",
    "from openai.embeddings_utils import distances_from_embeddings\n",
    "\n",
    "from dotenv import load_dotenv\n",
    "import os\n",
    "import openai\n",
    "\n",
    "load_dotenv()\n",
    "\n",
    "# this openai api key should be saved in a local file named \".env\". It should also be put in the .gitignore to avoid sharing secrets\n",
    "openai.api_key =  os.getenv(\"OPENAI_API_KEY\")\n",
    "\n",
    "df=pd.read_csv('processed/embeddings.csv', index_col=0)\n",
    "# df.to_parquet('processed/embeddings.parquet')\n",
    "\n",
    "\n",
    "df['embeddings'] = df['embeddings'].apply(eval).apply(np.array)\n",
    "\n",
    "df.head()"
   ]
  },
  {
   "cell_type": "code",
   "execution_count": 17,
   "id": "b3d507bf-f15b-4359-9687-b64a4975134a",
   "metadata": {},
   "outputs": [],
   "source": [
    "def create_context(\n",
    "    question, df, max_len=1800, size=\"ada\"\n",
    "):\n",
    "    \"\"\"\n",
    "    Create a context for a question by finding the most similar context from the dataframe\n",
    "    \"\"\"\n",
    "\n",
    "    # Get the embeddings for the question\n",
    "    q_embeddings = openai.Embedding.create(input=question, engine='text-embedding-ada-002')['data'][0]['embedding']\n",
    "\n",
    "    # Get the distances from the embeddings\n",
    "    df['distances'] = distances_from_embeddings(q_embeddings, df['embeddings'].values, distance_metric='cosine')\n",
    "\n",
    "\n",
    "    returns = []\n",
    "    cur_len = 0\n",
    "\n",
    "    # Sort by distance and add the text to the context until the context is too long\n",
    "    for i, row in df.sort_values('distances', ascending=True).iterrows():\n",
    "        \n",
    "        # Add the length of the text to the current length\n",
    "        cur_len += row['n_tokens'] + 4\n",
    "        \n",
    "        # If the context is too long, break\n",
    "        if cur_len > max_len:\n",
    "            break\n",
    "        \n",
    "        # Else add it to the text that is being returned\n",
    "        returns.append(row[\"text\"])\n",
    "\n",
    "    # Return the context\n",
    "    return \"\\n\\n###\\n\\n\".join(returns)\n",
    "\n",
    "def answer_question(\n",
    "    df,\n",
    "    model=\"text-davinci-003\",\n",
    "    question=\"Am I allowed to publish model outputs to Twitter, without a human review?\",\n",
    "    max_len=1800,\n",
    "    size=\"ada\",\n",
    "    debug=False,\n",
    "    max_tokens=150,\n",
    "    stop_sequence=None,\n",
    "    temperature = 0.\n",
    "):\n",
    "    \"\"\"\n",
    "    Answer a question based on the most similar context from the dataframe texts\n",
    "    \"\"\"\n",
    "    context = create_context(\n",
    "        question,\n",
    "        df,\n",
    "        max_len=max_len,\n",
    "        size=size,\n",
    "    )\n",
    "    # If debug, print the raw model response\n",
    "    if debug:\n",
    "        print(\"Context:\\n\" + context)\n",
    "        print(\"\\n\\n\")\n",
    "\n",
    "    try:\n",
    "        # Create a completions using the question and context\n",
    "        response = openai.Completion.create(\n",
    "            prompt=f\"Answer the question in a convincing manner based on the context below, and if the question can't be answered based on the context, say \\\"I don't know\\\"\\n\\nContext: {context}\\n\\n---\\n\\nQuestion: {question}\\nAnswer:\",\n",
    "            temperature=temperature,\n",
    "            max_tokens=max_tokens,\n",
    "            top_p=1,\n",
    "            frequency_penalty=0,\n",
    "            presence_penalty=0,\n",
    "            stop=stop_sequence,\n",
    "            model=model,\n",
    "        )\n",
    "        return response[\"choices\"][0][\"text\"].strip()\n",
    "    except Exception as e:\n",
    "        print(e)\n",
    "        return \"\"\n",
    "    \n"
   ]
  },
  {
   "cell_type": "code",
   "execution_count": 18,
   "id": "12afe4b0-b5b3-47f1-9d51-7e5354138e2c",
   "metadata": {},
   "outputs": [],
   "source": [
    "# https://dev.to/feranmiodugbemi/how-to-create-an-ai-powered-chatbot-with-gradio-and-openais-gpt-35-2c8l"
   ]
  },
  {
   "cell_type": "code",
   "execution_count": 23,
   "id": "95afd785-1f3d-49a6-ae60-92c6380639bf",
   "metadata": {},
   "outputs": [],
   "source": [
    "##### import gradio as gr\n",
    "\n",
    "def text_to_text(input):\n",
    "    if input:\n",
    "        question = input\n",
    "        ans = answer_question(df, question=question)\n",
    "        return ans\n",
    "    \n",
    "def text_to_text(temp, text):\n",
    "    if text:\n",
    "        ans = answer_question(df, question=text, temperature=temp)\n",
    "        return ans\n",
    "    \n",
    "\n",
    "inputs = [gr.components.Slider(value = 0., minimum=0., maximum=1., step = 0.05, label=\"Temperature (0=most factual, 1=most creative)\")\n",
    "          , gr.components.Textbox(lines=4, label=\"Chat with Wipfli\")]\n",
    "outputs = gr.components.Textbox(label=\"Output\")\n",
    "examples = [[0.0, \"Where are wipfli's largest offices?\"],\n",
    " [1.0, \"Where are wipfli's wisconsin offices?\"],\n",
    " [0.25, 'Can wipfli help me with BI Services?'],\n",
    " [0.9,  'How can wipfli help me with BI Services for my manufacturing company?'],\n",
    " # [0.75, 'What is one Wipfli success story?'],\n",
    " [0.0, 'How do I get in touch with Wipfli?']\n",
    "]\n",
    "\n"
   ]
  },
  {
   "cell_type": "code",
   "execution_count": 24,
   "id": "39a02054-880c-409f-a43a-3b2be3dfa2e0",
   "metadata": {
    "tags": []
   },
   "outputs": [
    {
     "name": "stdout",
     "output_type": "stream",
     "text": [
      "Wipfli provides a range of services including audit and accounting, CPA tax services, business consulting services, outsourcing, and private client services.\n",
      "********************************************************************************\n",
      "Wipfli provides audit and accounting services, CPA tax services, business consulting services, outsourcing services, and private client services.\n"
     ]
    }
   ],
   "source": [
    "print(answer_question(df, question=\"What services does wipfli provide?\",temperature=0.))\n",
    "print('*'*80)\n",
    "print(answer_question(df, question=\"What services does wipfli provide?\",temperature=1.))"
   ]
  },
  {
   "cell_type": "code",
   "execution_count": 25,
   "id": "d1133623-927f-4c5f-892c-6dc76fd21709",
   "metadata": {
    "tags": []
   },
   "outputs": [
    {
     "name": "stderr",
     "output_type": "stream",
     "text": [
      "/Users/yarribryn/mambaforge/envs/openai/lib/python3.11/site-packages/gradio/blocks.py:491: UserWarning: Theme should be a class loaded from gradio.themes\n",
      "  warnings.warn(\"Theme should be a class loaded from gradio.themes\")\n"
     ]
    },
    {
     "name": "stdout",
     "output_type": "stream",
     "text": [
      "Running on local URL:  http://127.0.0.1:7926\n",
      "\n",
      "To create a public link, set `share=True` in `launch()`.\n"
     ]
    },
    {
     "data": {
      "text/html": [
       "<div><iframe src=\"http://127.0.0.1:7926/\" width=\"100%\" height=\"500\" allow=\"autoplay; camera; microphone; clipboard-read; clipboard-write;\" frameborder=\"0\" allowfullscreen></iframe></div>"
      ],
      "text/plain": [
       "<IPython.core.display.HTML object>"
      ]
     },
     "metadata": {},
     "output_type": "display_data"
    },
    {
     "data": {
      "text/plain": []
     },
     "execution_count": 25,
     "metadata": {},
     "output_type": "execute_result"
    }
   ],
   "source": [
    "gr.Interface(fn=text_to_text, inputs=inputs, outputs=outputs, title=\"wipfli website q&a\",\n",
    "             description=\"Ask any questions about Wipfli (public website)\", examples=examples,\n",
    "             theme=\"compact\").launch(share=False)\n"
   ]
  },
  {
   "cell_type": "code",
   "execution_count": null,
   "id": "cd4cc61c-5d02-4920-b073-771aec67f044",
   "metadata": {},
   "outputs": [],
   "source": []
  }
 ],
 "metadata": {
  "kernelspec": {
   "display_name": "Python 3 (ipykernel)",
   "language": "python",
   "name": "python3"
  },
  "language_info": {
   "codemirror_mode": {
    "name": "ipython",
    "version": 3
   },
   "file_extension": ".py",
   "mimetype": "text/x-python",
   "name": "python",
   "nbconvert_exporter": "python",
   "pygments_lexer": "ipython3",
   "version": "3.11.0"
  }
 },
 "nbformat": 4,
 "nbformat_minor": 5
}
